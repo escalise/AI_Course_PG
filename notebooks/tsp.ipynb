{
 "cells": [
  {
   "cell_type": "markdown",
   "metadata": {},
   "source": [
    "# Implementación del TSP en DEAP\n",
    "por _Eugenio Scalise_, basado en el ejemplo [tsp.py](https://github.com/DEAP/deap/blob/master/examples/ga/tsp.py), disponible en el [repositorio de la biblioteca DEAP](https://github.com/DEAP/deap)\n",
    "\n",
    "Adaptado para el curso electivo **Inteligencia Artificial**, Postgrado en Ciencias de la Computación, Facultad de Ciencias, Universidad Central de Venezuela. Julio 2019.\n",
    "\n",
    "Para más detalles, revise la [documentación de DEAP](https://deap.readthedocs.io)."
   ]
  },
  {
   "cell_type": "markdown",
   "metadata": {},
   "source": [
    "### Celda para instalar paquetes \n",
    "\n",
    "Los paquetes no disponibles en el ambiente donde se ejecuta el Jupyter (colab, por ejemplo), pueden ser instalados mediante la sentencia:\n",
    "\n",
    "`pip install <nombre_del_paquete>`\n",
    "\n",
    "Basta ejecutar la primera vez y luego comentar la celda."
   ]
  },
  {
   "cell_type": "code",
   "execution_count": 1,
   "metadata": {},
   "outputs": [],
   "source": [
    "#pip install deap"
   ]
  },
  {
   "cell_type": "markdown",
   "metadata": {},
   "source": [
    "### Imports \n",
    "\n",
    "Si ocurre un error al ejecutar alguna de las celdas, descomente la celda anterior e instale el paquete correspondiente."
   ]
  },
  {
   "cell_type": "code",
   "execution_count": 2,
   "metadata": {},
   "outputs": [],
   "source": [
    "import array\n",
    "import random\n",
    "import json\n",
    "\n",
    "import numpy\n",
    "\n",
    "from deap import algorithms\n",
    "from deap import base\n",
    "from deap import creator\n",
    "from deap import tools"
   ]
  },
  {
   "cell_type": "markdown",
   "metadata": {},
   "source": [
    "En la solución original, los datos del grafo TSP eran leídos desde un JSON desde el filesystem. Por simplicidad, para que este notebook se pueda ejecutar en cualquier ambiente (colab, por ejemplo), mofiqué el código original y leo el JSON desde un URL en el repositorio (URL del _raw file_).\n",
    "\n",
    "Estas son las líneas eliminadas del código original:\n",
    "\n",
    "```python\n",
    "# gr*.json contains the distance map in list of list style in JSON format\n",
    "# Optimal solutions are : gr17 = 2085, gr24 = 1272, gr120 = 6942\n",
    "with open(\"tsp/gr17.json\", \"r\") as tsp_data:\n",
    "  tsp = json.load(tsp_data)\n",
    "```"
   ]
  },
  {
   "cell_type": "code",
   "execution_count": 3,
   "metadata": {},
   "outputs": [],
   "source": [
    "# Hack para leer el archivo desde un URL y no desde el file system\n",
    "# gr*.json contiene el map de distancias como listas de listas en JSON\n",
    "# Soluciones óptimas: gr17 = 2085, gr24 = 1272, gr120 = 6942\n",
    "\n",
    "# Importando el objeto request para manipular el URL\n",
    "import urllib.request\n",
    "\n",
    "# Cambiar el URL según el caso de prueba que se quiera probar\n",
    "# (el número denota el tamaño del circuito)\n",
    "JSON_URL = \"https://raw.githubusercontent.com/escalise/AI_Course_PG/master/notebooks/tsp/gr17.json\"\n",
    "tsp_data = urllib.request.urlopen(JSON_URL).read()\n",
    "tsp = json.loads(tsp_data)\n",
    "\n",
    "#print(tsp)"
   ]
  },
  {
   "cell_type": "markdown",
   "metadata": {},
   "source": [
    "### Matriz de distancias y tamaño del tour/camino"
   ]
  },
  {
   "cell_type": "code",
   "execution_count": 4,
   "metadata": {},
   "outputs": [],
   "source": [
    "distance_map = tsp[\"DistanceMatrix\"]\n",
    "IND_SIZE = tsp[\"TourSize\"]\n",
    "best_fitness = tsp[\"OptDistance\"] # el JSON contiene el óptimo, útil para comparar "
   ]
  },
  {
   "cell_type": "markdown",
   "metadata": {},
   "source": [
    "### Inicializaciones/configuraciones de DEAP\n",
    "\n",
    "(ver más detalles en el [tutorial de DEAP](https://deap.readthedocs.io/en/master/index.html) o el framework que decidan usar)."
   ]
  },
  {
   "cell_type": "code",
   "execution_count": 5,
   "metadata": {},
   "outputs": [],
   "source": [
    "# el problema es de minimización, por eso se inicializa el atributo weights en -1.0\n",
    "creator.create(\"FitnessMin\", base.Fitness, weights=(-1.0,))\n",
    "\n",
    "# los individuos se representan como arreglos y se especifica \n",
    "# que se va a minimizar \n",
    "# la función de aptitud/fitness\n",
    "creator.create(\"Individual\", array.array, typecode='i', fitness=creator.FitnessMin)\n",
    "\n",
    "# el toolbox se usa para almacenar los operadores evolutivos\n",
    "toolbox = base.Toolbox()\n",
    "\n",
    "# registar el generador de atributos de los individuos\n",
    "toolbox.register(\"indices\", random.sample, range(IND_SIZE), IND_SIZE)\n",
    "# inicializadores de las estructuras de individuos\n",
    "toolbox.register(\"individual\", tools.initIterate, creator.Individual, toolbox.indices)\n",
    "toolbox.register(\"population\", tools.initRepeat, list, toolbox.individual)"
   ]
  },
  {
   "cell_type": "markdown",
   "metadata": {},
   "source": [
    "### Definición de la función de adaptación/fitness\n",
    "\n",
    "Se define en Python la función de aptitud que luego es registrada en el framework."
   ]
  },
  {
   "cell_type": "code",
   "execution_count": 6,
   "metadata": {},
   "outputs": [],
   "source": [
    "def evalTSP(individual):\n",
    "    distance = distance_map[individual[-1]][individual[0]]\n",
    "    for gene1, gene2 in zip(individual[0:-1], individual[1:]):\n",
    "        distance += distance_map[gene1][gene2]\n",
    "    return distance,"
   ]
  },
  {
   "cell_type": "markdown",
   "metadata": {},
   "source": [
    "### Configuración del tipo de cruce, mutación, selección y función de adaptación\n"
   ]
  },
  {
   "cell_type": "code",
   "execution_count": 7,
   "metadata": {},
   "outputs": [],
   "source": [
    "# leer la documentación\n",
    "toolbox.register(\"mate\", tools.cxPartialyMatched)\n",
    "toolbox.register(\"mutate\", tools.mutShuffleIndexes, indpb=0.05)\n",
    "toolbox.register(\"select\", tools.selTournament, tournsize=3)\n",
    "toolbox.register(\"evaluate\", evalTSP)"
   ]
  },
  {
   "cell_type": "markdown",
   "metadata": {},
   "source": [
    "### Función `evolve()` con la dinámica evolutiva\n",
    "\n",
    "El paquete `algorithms` contiene diversas implementaciones de algoritmos evolutivos. El método `eaSimple` ya contiene la dinámica evolutiva clásica vista en clases (selección, cruce y mutación), implementada según la configuración hecha. Se puede personalizar más colocando una dinámica propia (ver el tutorial y los ejemplos en el repositorio de DEAP en GitHub)."
   ]
  },
  {
   "cell_type": "code",
   "execution_count": 8,
   "metadata": {},
   "outputs": [],
   "source": [
    "def evolve():\n",
    "    random.seed(42) # al fijar las semillas todas las ejecuciones serán iguales\n",
    "\n",
    "    # población\n",
    "    pop = toolbox.population(n=300)\n",
    "\n",
    "    # mejor individuo (opcional, se puede tomar de las estadísticas)\n",
    "    hof = tools.HallOfFame(1)\n",
    "    \n",
    "    # DEAP provee estadísticas a calcular en la corrida. \n",
    "    # En este ejemplo se calcula el promedio y desviación estándar\n",
    "    # de la población, así como el máximo y el mínimo. \n",
    "    # Estos datos se muestran por defecto en la salida en modo texto\n",
    "    # (se puede apagar),pero se pueden usar para graficar (ver tutorial)\n",
    "    stats = tools.Statistics(lambda ind: ind.fitness.values)\n",
    "    stats.register(\"avg\", numpy.mean)\n",
    "    stats.register(\"std\", numpy.std)\n",
    "    stats.register(\"min\", numpy.min)\n",
    "    stats.register(\"max\", numpy.max)\n",
    "    \n",
    "    # Algoritmo genético con parámetros a usar y estadísticas a calcular    \n",
    "    algorithms.eaSimple(pop, toolbox, 0.7, 0.2, 50, stats=stats, \n",
    "                        halloffame=hof)\n",
    "    \n",
    "    return pop, stats, hof"
   ]
  },
  {
   "cell_type": "markdown",
   "metadata": {},
   "source": [
    "### Ejecutar una búsqueda con el AG instanciado\n",
    "\n",
    "Hacer pruebas cambiando los parámetros, número de iteraciones, semilla, etc."
   ]
  },
  {
   "cell_type": "code",
   "execution_count": 9,
   "metadata": {},
   "outputs": [
    {
     "name": "stdout",
     "output_type": "stream",
     "text": [
      "gen\tnevals\tavg    \tstd    \tmin \tmax \n",
      "0  \t300   \t4690.49\t445.191\t3481\t5841\n",
      "1  \t226   \t4443.21\t399.971\t3129\t5941\n",
      "2  \t226   \t4346.49\t411.386\t3129\t5692\n",
      "3  \t220   \t4305.31\t459.031\t3129\t5657\n",
      "4  \t224   \t4191.19\t442.272\t3129\t5461\n",
      "5  \t208   \t4123.49\t488.654\t3129\t5441\n",
      "6  \t220   \t4063.79\t480.899\t3129\t5413\n",
      "7  \t230   \t4042.96\t488.855\t3139\t5372\n",
      "8  \t254   \t4069   \t512.454\t3005\t5676\n",
      "9  \t212   \t4007.65\t475.294\t3005\t5337\n",
      "10 \t236   \t4031.02\t555.703\t3005\t5478\n",
      "11 \t219   \t3967.61\t532.231\t3005\t5607\n",
      "12 \t215   \t3918.59\t540.498\t3005\t5501\n",
      "13 \t217   \t3958.57\t588.745\t2665\t5628\n",
      "14 \t217   \t3844.71\t565.507\t2640\t5287\n",
      "15 \t241   \t3904.27\t577.263\t2640\t5462\n",
      "16 \t243   \t3907.89\t506.703\t2640\t5367\n",
      "17 \t234   \t3869.57\t550.245\t2595\t5360\n",
      "18 \t232   \t3811.59\t545.775\t2595\t5329\n",
      "19 \t227   \t3758.08\t595.753\t2537\t5350\n",
      "20 \t227   \t3676.42\t603.626\t2465\t5252\n",
      "21 \t214   \t3642.24\t624.912\t2465\t5113\n",
      "22 \t244   \t3633.23\t635.848\t2465\t5838\n",
      "23 \t223   \t3515.93\t566.066\t2447\t4986\n",
      "24 \t217   \t3477.36\t664.356\t2447\t5114\n",
      "25 \t244   \t3416.73\t591.752\t2465\t5112\n",
      "26 \t235   \t3400.75\t636.445\t2363\t5283\n",
      "27 \t246   \t3344.29\t601.062\t2363\t5640\n",
      "28 \t220   \t3219.78\t560.653\t2363\t5074\n",
      "29 \t231   \t3143.16\t544.967\t2363\t5217\n",
      "30 \t209   \t2973.32\t432.759\t2363\t4722\n",
      "31 \t233   \t2887.81\t408.233\t2363\t5057\n",
      "32 \t242   \t2815.72\t380.858\t2350\t4659\n",
      "33 \t225   \t2664.96\t242.476\t2328\t3961\n",
      "34 \t235   \t2653.37\t357.346\t2321\t4468\n",
      "35 \t233   \t2576.1 \t304.942\t2294\t4262\n",
      "36 \t233   \t2530.29\t321.244\t2179\t4589\n",
      "37 \t247   \t2498.24\t295.62 \t2179\t4328\n",
      "38 \t232   \t2462   \t294.037\t2142\t4075\n",
      "39 \t229   \t2423.34\t290.542\t2131\t3964\n",
      "40 \t221   \t2383.86\t280.482\t2106\t4183\n",
      "41 \t233   \t2345.37\t303.526\t2104\t4201\n",
      "42 \t227   \t2336.68\t377.224\t2097\t4944\n",
      "43 \t227   \t2263.13\t298.417\t2095\t4296\n",
      "44 \t227   \t2263.93\t340.822\t2095\t4238\n",
      "45 \t234   \t2230.44\t324.022\t2085\t4100\n",
      "46 \t245   \t2230.98\t354.517\t2085\t4168\n",
      "47 \t229   \t2179.84\t280.301\t2085\t4333\n",
      "48 \t235   \t2189.02\t325.057\t2085\t4198\n",
      "49 \t237   \t2176.98\t301.484\t2085\t4468\n",
      "50 \t233   \t2152.75\t265.095\t2085\t4406\n"
     ]
    }
   ],
   "source": [
    "_, _, _ = evolve()"
   ]
  }
 ],
 "metadata": {
  "kernelspec": {
   "display_name": "Python 3",
   "language": "python",
   "name": "python3"
  },
  "language_info": {
   "codemirror_mode": {
    "name": "ipython",
    "version": 3
   },
   "file_extension": ".py",
   "mimetype": "text/x-python",
   "name": "python",
   "nbconvert_exporter": "python",
   "pygments_lexer": "ipython3",
   "version": "3.6.8"
  }
 },
 "nbformat": 4,
 "nbformat_minor": 2
}
