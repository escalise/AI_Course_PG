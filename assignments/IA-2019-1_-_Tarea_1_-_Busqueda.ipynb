{
 "cells": [
  {
   "cell_type": "markdown",
   "metadata": {},
   "source": [
    "**Postgrado en Ciencias de la Computación**  \n",
    "**Inteligencia Artificial (CC6021236)**  \n",
    "**Semestre 2019-1**  \n",
    "**Prof. Eugenio Scalise**  \n",
    "\n",
    "## Tarea 1 (Técnicas de búsqueda Heurística)\n",
    "\n",
    "El 8-puzzle es un juego que consiste en un tablero de 3x3 casillas, donde una de las casillas está vacía y el resto están ocupadas y numeradas desde 1 hasta 8 como se muestra en la siguiente figura:\n",
    "\n",
    "|&nbsp;|&nbsp;|&nbsp;|\n",
    "|------|------|------|\n",
    "| 1 | &nbsp; | 3 |\n",
    "| 5 | 2 | 6 |\n",
    "| 4 | 7 | 8 |\n",
    "\n",
    "El propósito es mover las casillas hasta llegar a un estado objetivo. En nuestro caso se usará como objetivo el estado mostrado en la siguiente figura:\n",
    "\n",
    "|&nbsp;|&nbsp;|&nbsp;|\n",
    "|------|------|------|\n",
    "| 1 | 2 | 3 |\n",
    "| 4 | 5 | 6 |\n",
    "| 7 | 8 | &nbsp; |\n",
    "\n",
    "Para un estado o posición cualquiera del 8-puzzle, los únicos movimientos válidos son cambiar la casilla vacía con cualquiera de sus adyacentes horizontales o verticales. \n",
    "\n",
    "Se desea que realice las siguientes actividades:\n"
   ]
  },
  {
   "cell_type": "markdown",
   "metadata": {},
   "source": [
    "1. Proponga una representación para los estados del 8-puzzle, indique el tipo y ejemplos en Python.\n",
    "\n",
    "*(Inserte el texto de su respuesta aquí)*"
   ]
  },
  {
   "cell_type": "markdown",
   "metadata": {},
   "source": [
    "2. Defina una función de costo y una heurística para su representación. ¿Es su heurística admisible? (Justifique su respuesta)\n",
    "\n",
    "*(Inserte el texto de su respuesta aquí)*\n",
    "\n",
    "*(Puede insertar aquí también celdas de código con la definición \n",
    "de las funciones)*"
   ]
  },
  {
   "cell_type": "markdown",
   "metadata": {},
   "source": [
    "3. Implemente una solución al problema 8-puzzle utilizando el algoritmo A*, considerando la representación y heurística definidas anteriormente.\n",
    "\n",
    "Para efectos de análisis en próximas preguntas es importante que incorpore a su solución un conteo del número de estados visitados durante la búsqueda, el promedio de anchura/hijos del árbol de búsqueda, el tamaño de la solución obtenida y el tiempo de ejecución (para esto último utilice el *comando mágico* %%time de Jupyter).\n",
    "\n",
    "*(Describa aquí cualquier aspecto que considere importante aclarar)*"
   ]
  },
  {
   "cell_type": "code",
   "execution_count": 2,
   "metadata": {},
   "outputs": [],
   "source": [
    "# Defina en esta celda una función a_estrella(edo_inicial).\n",
    "# Si necesita importar paquetes o definir datos globales, \n",
    "# defina una o varias celdas de código previas a ésta.\n"
   ]
  },
  {
   "cell_type": "code",
   "execution_count": 3,
   "metadata": {},
   "outputs": [],
   "source": [
    "# Utilice esta celda para ejecutar y probar la función \n",
    "# desarrollada con varios casos de prueba.\n"
   ]
  },
  {
   "cell_type": "markdown",
   "metadata": {},
   "source": [
    "4. Compare la complejidad teórica del algoritmo A* vs. los resultados obtenidos en las corridas. \n",
    "\n",
    "*(Inserte el texto de su respuesta aquí)*\n"
   ]
  },
  {
   "cell_type": "markdown",
   "metadata": {},
   "source": [
    "5. Implemente una solución al problema 8-puzzle utilizando el algoritmo Iterative-deepening A* (IDA*), considerando la representación y heurística definidas anteriormente.\n",
    "\n",
    "Al igual que en la implementación de A*, incorpore a su solución un conteo del número de estados visitados durante la búsqueda, el promedio de anchura/hijos del árbol de búsqueda, el tamaño de la solución obtenida y el tiempo de ejecución (para esto último utilice el *comando mágico* %%time de Jupyter).\n",
    "\n",
    "*(Describa aquí cualquier aspecto que considere importante aclarar)*"
   ]
  },
  {
   "cell_type": "code",
   "execution_count": null,
   "metadata": {},
   "outputs": [],
   "source": [
    "# Defina en esta celda una función ida_estrella(edo_inicial).\n",
    "# Si necesita importar paquetes o definir datos globales, \n",
    "# defina una o varias celdas de código previas a ésta.\n"
   ]
  },
  {
   "cell_type": "code",
   "execution_count": null,
   "metadata": {},
   "outputs": [],
   "source": [
    "# Utilice esta celda para ejecutar y probar la función \n",
    "# desarrollada con varios casos de prueba.\n"
   ]
  },
  {
   "cell_type": "markdown",
   "metadata": {},
   "source": [
    "6. Compare los resultados obtenidos en las corridas de IDA* con los obtenidos en la ejecución de A. ¿Qué puede concluir?\n",
    "\n",
    "*(Inserte el texto de su respuesta aquí)*"
   ]
  },
  {
   "cell_type": "markdown",
   "metadata": {},
   "source": [
    "**Consideraciones:**  \n",
    "- Agregue una celda de referencias y cite **todo** recurso que utilice. Utilice formato IEEE para las referencias.\n",
    "- Esta tarea es individual (las restantes serán en grupos de dos personas).\n",
    "- Para la entrega, hospede su solución en http://colab.research.google.com. La fecha y hora de la última modificación del documento será considerada el *timestamp* de entrega.\n",
    "- Todas las celdas de código de la entrega deben estar ejecutadas para facilitar la corrección; sin embargo, se utilizará un set de casos de prueba para la revisión.\n",
    "- La fecha de entrega de esta tarea es el lunes 24/06/2019, 11:59:59 PM (VET time). Debe enviar el URL por correo o mediante la opción de compartir del colab a escalise@gmail.com\n"
   ]
  },
  {
   "cell_type": "markdown",
   "metadata": {},
   "source": [
    "**Posibilidad de Solución**  \n",
    "Algunos estados iniciales del 8-puzzle no poseen solución. Existen varios métodos para verificar esto, uno de ellos se ilustra mediante un ejemplo.\n",
    "\n",
    "Supongamos el siguiente estado inicial del 8-puzzle:\n",
    "\n",
    "|&nbsp;|&nbsp;|&nbsp;|\n",
    "|------|------|------|\n",
    "| 1 | &nbsp; | 3 |\n",
    "| 5 | 2 | 6 |\n",
    "| 4 | 7 | 8 |\n",
    "\n",
    "Para cada casilla con un valor _n&#8203;_, contamos cuántas casillas con valores menores a _n&#8203;_ se encuentran después de ésta (asumiendo _n&#8203;_=9 para la casilla vacía). Para el ejmplo mostrado arriba se tiene:\n",
    "\n",
    "- Casilla con 1: no hay valores menores a 1 en ninguna casilla posterior\n",
    "- Casilla con vacío (9): 7 valores menores a 9 (3, 5, 2, 6, 4, 7 y 8)\n",
    "- Casilla con 3: un valor menor a 3 en casillas posteriores (2)\n",
    "- Casilla con 5: 2 valores menores a 5 en casillas posteriores (2 y 4)\n",
    "- Casilla con 2: no hay valores menores que lo sucedan.\n",
    "- Casilla con 6: un valore menor a 6 en casillas posteriores (4)\n",
    "- Casillas con 4, 7 y 8: no poseen valores menores posteriores.\n",
    "\n",
    "Sumando los valores obtenidos se tiene: M = 0 + 7 + 1 + 2 + 0 + 1 + 0 + 0 + 0 = 11\n",
    "\n",
    "Luego se calcula la distancia Manhatan entre la casilla vacía (1,2) y la posición que debe ocupar en el estado final (3,3). Esto es: D = |3 - 1| + |3 - 2| = 3.\n",
    "\n",
    "Finalmente si la suma M + D es par, el 8-puzzle tiene solución; en caso contrario, no es resoluble. Para el ejemplo, M + D = 14, por lo tanto el 8-puzzle tiene solución.\n"
   ]
  }
 ],
 "metadata": {
  "kernelspec": {
   "display_name": "Python 3",
   "language": "python",
   "name": "python3"
  },
  "language_info": {
   "codemirror_mode": {
    "name": "ipython",
    "version": 3
   },
   "file_extension": ".py",
   "mimetype": "text/x-python",
   "name": "python",
   "nbconvert_exporter": "python",
   "pygments_lexer": "ipython3",
   "version": "3.6.8"
  }
 },
 "nbformat": 4,
 "nbformat_minor": 2
}
