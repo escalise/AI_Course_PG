{
 "cells": [
  {
   "cell_type": "markdown",
   "metadata": {},
   "source": [
    "**Postgrado en Ciencias de la Computación**  \n",
    "**Inteligencia Artificial (CC6021236)**  \n",
    "**Semestre 2019-1**  \n",
    "**Prof. Eugenio Scalise**  \n",
    "\n",
    "## Tarea 2 (Algoritmos Evolutivos)\n",
    "\n"
   ]
  },
  {
   "cell_type": "markdown",
   "metadata": {},
   "source": [
    "***(inserte sus datos personales en esta celda)***"
   ]
  },
  {
   "cell_type": "markdown",
   "metadata": {},
   "source": [
    "<img src=\"https://upload.wikimedia.org/wikipedia/commons/thumb/f/ff/Sudoku-by-L2G-20050714.svg/240px-Sudoku-by-L2G-20050714.svg.png\"\n",
    "     alt=\"Ejemplo de Sudoku sin resolver\"\n",
    "     style=\"float: right; margin-right: 10px;\" />El Sudoku es un conocido juego matemático cuyo objetivo es rellenar una cuadrícula de 9 × 9 celdas (81 casillas), dividida en subcuadrículas de 3 × 3 (también llamadas \"cajas\" o \"regiones\") con las cifras del 1 al 9 partiendo de algunos números ya dispuestos en algunas de las celdas. Aunque se podrían usar colores, letras, figuras, se conviene en usar números para mayor claridad, lo que importa, es que sean nueve elementos diferenciados, que no se deben repetir en una misma fila, columna o subcuadrícula. \\[1\\]\n",
    "\n",
    "El propósito de esta tarea cosniste en utilizar Algoritmos Evolutivos para que mediante una dinámica evolutiva se obtengan Sudokus válidos. En particular, utilizando un algoritmo genético con representación de los estados de los sudokus mediante secuecias o permutaciones.\n",
    "\n",
    "Para facilitar este trabajo, debe utilizar el framework DEAP \\[2\\].\n",
    "\n",
    "Se desea que realice las siguientes actividades:"
   ]
  },
  {
   "cell_type": "markdown",
   "metadata": {},
   "source": [
    "**UNO.** Implemente una dinámica evolutiva con DEAP que a partir de una población aleatoria (permutaciones aleatorias) la dinámica evolutiva permita obtener al menos un individuo (el mejor) que corresponda a un Sudoku válido.\n",
    "\n",
    "Para esto, antes de implementar su solución deje claro lo siguiente:\n",
    "\n",
    "    a. Representación de individuos y poblaciones\n",
    "    \n",
    "    b. Función de adaptación/fitness\n",
    "    \n",
    "    c. Operadores evolutivos a utilizar\n",
    "\n",
    "Para esto, se recomienda revisar las propuestas presentadas en el capítulo 11 del libro _Genetics Algoritms with Python_ \\[3\\] que está disponible en los recursos de la materia."
   ]
  },
  {
   "cell_type": "markdown",
   "metadata": {},
   "source": [
    "***(Inserte el texto de las respuestas a, b y c aquí)***"
   ]
  },
  {
   "cell_type": "code",
   "execution_count": 1,
   "metadata": {},
   "outputs": [],
   "source": [
    "# A partir de acá coloque tantas celdas como requiera \n",
    "# para su implementación en Python y su respectiva \n",
    "# documentación/comentarios."
   ]
  },
  {
   "cell_type": "code",
   "execution_count": 2,
   "metadata": {},
   "outputs": [],
   "source": [
    "# Utilice una celda al final para correr casos de prueba"
   ]
  },
  {
   "cell_type": "markdown",
   "metadata": {},
   "source": [
    "**DOS.** Luego de entonar los parámetros del algoritmo y los operadores genéticos, muestre (preferiblemente usando gráficos) información relevante con respecto a la dinámica evolutiva. Adicionalmente, analice sus resultados.\n",
    "\n",
    "***(Describa aquí cómo entonó los parámetros y qué decisiones tomó)***"
   ]
  },
  {
   "cell_type": "code",
   "execution_count": 3,
   "metadata": {},
   "outputs": [],
   "source": [
    "# Escriba acá todo el código necesario para generar \n",
    "# las gráficas y mostrar los resultados"
   ]
  },
  {
   "cell_type": "markdown",
   "metadata": {},
   "source": [
    "**TRES.** Suponga que se modifica el problema para que busque la solución a un Sudoku específico (por ejemplo, el de la imagen mostrada arriba). Indique:\n",
    "\n",
    "    a. Qué cambios debe realizar para generar la población inicial.\n",
    "    \n",
    "    b. Qué cambios debe realizar en los operadores genéticos\n",
    "    \n",
    "    c. Implemente la dinámica evolutiva considerando este cambio. (opcional)\n",
    "    \n",
    "    d. Muestre y analice los resultados. (opcional)\n",
    "       \n",
    "**Nota:** si desarrolla las partes c y d puede obtener hasta 5 puntos adicionales en la tarea.\n",
    "\n",
    "***(Inserte el texto de su respuesta aquí)***\n"
   ]
  },
  {
   "cell_type": "code",
   "execution_count": 4,
   "metadata": {},
   "outputs": [],
   "source": [
    "# código de la respuesta opcional a partir de acá"
   ]
  },
  {
   "cell_type": "markdown",
   "metadata": {},
   "source": [
    "### Consideraciones:  \n",
    "\n",
    "- Utilice una copia de este Jupyter Notebook usando Python3 para hacer el proyecto.\n",
    "- Renombre el documento como `Tarea_2_-_Nombre1_Apellido1_-_Nombre2_Apellido2.ipynb`\n",
    "- Agregue una celda de referencias y cite **todo** recurso que utilice. Utilice formato IEEE para las referencias.\n",
    "- Esta tarea se puede realizar en grupos de dos personas.\n",
    "- Para la entrega, hospede su solución en http://colab.research.google.com. La fecha y hora de la última modificación del documento será considerada el *timestamp* de entrega. Para mayor seguridad, envíe también el notebook como una anexo por correo a `escalise at gmail dot com`.\n",
    "- Todas las celdas de código de la entrega deben estar ejecutadas para facilitar la corrección; sin embargo, se utilizará un set de casos de prueba para la revisión.\n",
    "- La fecha de entrega de esta tarea es el miércoles 31/07/2019, 11:59:59 PM (VET time)."
   ]
  },
  {
   "cell_type": "markdown",
   "metadata": {},
   "source": [
    "### Referencias\n",
    "\n",
    "\\[1\\] [Sudoku](https://es.wikipedia.org/wiki/Sudoku). Wikipedia, La enciclopedia libre, 2019.\n",
    "\n",
    "\\[2\\] DEAP (Distributed Evolutionary Algorithms in Python). Repositorio: https://github.com/DEAP/deap, Documentación: https://deap.readthedocs.io/\n",
    "\n",
    "\\[3\\] Clinton Sheppard. *Genetics Algorithms with Python*. 2016. (Disponible en el directorio compartido de Drive de la materia)"
   ]
  }
 ],
 "metadata": {
  "kernelspec": {
   "display_name": "Python 3",
   "language": "python",
   "name": "python3"
  },
  "language_info": {
   "codemirror_mode": {
    "name": "ipython",
    "version": 3
   },
   "file_extension": ".py",
   "mimetype": "text/x-python",
   "name": "python",
   "nbconvert_exporter": "python",
   "pygments_lexer": "ipython3",
   "version": "3.6.8"
  }
 },
 "nbformat": 4,
 "nbformat_minor": 2
}
