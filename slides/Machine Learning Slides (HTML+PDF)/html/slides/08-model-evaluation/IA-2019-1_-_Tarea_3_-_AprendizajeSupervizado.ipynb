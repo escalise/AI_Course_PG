{
 "cells": [
  {
   "cell_type": "markdown",
   "metadata": {},
   "source": [
    "**Postgrado en Ciencias de la Computación**  \n",
    "**Inteligencia Artificial (CC6021236)**  \n",
    "**Semestre 2019-1**  \n",
    "**Prof. Eugenio Scalise**  \n",
    "\n",
    "## Tarea 3 (Aprendizaje Supervizado - Clasificación)\n",
    "\n"
   ]
  },
  {
   "cell_type": "markdown",
   "metadata": {},
   "source": [
    "***(inserte sus datos personales en esta celda)***"
   ]
  },
  {
   "cell_type": "markdown",
   "metadata": {},
   "source": [
    "En esta tarea se utilizará el set de datos [Telco Customer Churn](https://www.kaggle.com/blastchar/telco-customer-churn#WA_Fn-UseC_-Telco-Customer-Churn.csv) (pérdida de clientes en una empresa de telecomunicaciones) que por simplicidad está desplegado en este [URL](URL al repo...)\n",
    "\n",
    "Documente en este notebook (con código, gráficas y análisis) las siguientes actividades:\n",
    "\n",
    "1. Visualice la distribución de las características (features) y clasificación a predecir (Churn o pérdida de cliente).\n",
    "\n",
    "2. Divida los datos en entrenamiento y prueba. Tome en cuenta que hay datos categóricos.\n",
    "\n",
    "3. Evalúe tres (3) modelos utilizando valores por defecto y validación cruzada. ¿Qué tan diferentes son los resultados?\n",
    "\n",
    "4. Ajuste los parámetros de los modelos utilizando GridSearchCV. ¿Mejoran los resultados? (Visualice el rendimiento de los tres modelos como una función de sus parámetros).\n",
    "\n",
    "5. Cambie la estrategia de validación cruzada de 'stratified k-fold' a 'kfold with shuffling'\n",
    "\n"
   ]
  },
  {
   "cell_type": "markdown",
   "metadata": {},
   "source": [
    "### Consideraciones:  \n",
    "\n",
    "- Utilice una copia de este Jupyter Notebook usando Python3 para hacer el proyecto.\n",
    "- Renombre el documento como `Tarea_3_-_Nombre1_Apellido1_-_Nombre2_Apellido2.ipynb`\n",
    "- Agregue una celda de referencias y cite **todo** recurso que utilice. Utilice formato IEEE para las referencias.\n",
    "- Esta tarea se puede realizar en grupos de dos personas.\n",
    "- Para la entrega, hospede su solución en http://colab.research.google.com. La fecha y hora de la última modificación del documento será considerada el *timestamp* de entrega. Para mayor seguridad, envíe también el notebook como una anexo por correo a `escalise at gmail dot com`.\n",
    "- Todas las celdas de código de la entrega deben estar ejecutadas para facilitar la corrección.\n",
    "- La fecha de entrega de esta tarea es el miércoles 16/10/2019, 11:59:59 PM (VET time)."
   ]
  }
 ],
 "metadata": {
  "kernelspec": {
   "display_name": "Python 3",
   "language": "python",
   "name": "python3"
  },
  "language_info": {
   "codemirror_mode": {
    "name": "ipython",
    "version": 3
   },
   "file_extension": ".py",
   "mimetype": "text/x-python",
   "name": "python",
   "nbconvert_exporter": "python",
   "pygments_lexer": "ipython3",
   "version": "3.6.8"
  }
 },
 "nbformat": 4,
 "nbformat_minor": 2
}
