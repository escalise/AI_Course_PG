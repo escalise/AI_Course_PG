{
 "cells": [
  {
   "cell_type": "code",
   "execution_count": 15,
   "metadata": {
    "collapsed": true
   },
   "outputs": [],
   "source": [
    "import numpy as np\n",
    "import matplotlib.pyplot as plt\n",
    "import pandas as pd\n",
    "% matplotlib inline\n",
    "plt.rcParams[\"savefig.dpi\"] = 300\n",
    "plt.rcParams[\"savefig.bbox\"] = 'tight'\n",
    "import warnings\n",
    "warnings.simplefilter('ignore', (FutureWarning, DeprecationWarning))"
   ]
  },
  {
   "cell_type": "code",
   "execution_count": 16,
   "metadata": {},
   "outputs": [],
   "source": [
    "from sklearn.datasets import load_iris\n",
    "from sklearn.utils import shuffle\n",
    "iris = load_iris()"
   ]
  },
  {
   "cell_type": "code",
   "execution_count": 17,
   "metadata": {},
   "outputs": [],
   "source": [
    "X, y = iris.data, iris.target\n",
    "X, y = shuffle(X, y)"
   ]
  },
  {
   "cell_type": "code",
   "execution_count": 18,
   "metadata": {},
   "outputs": [
    {
     "name": "stdout",
     "output_type": "stream",
     "text": [
      "[[4.4 2.9 1.4 0.2]\n",
      " [5.6 2.7 4.2 1.3]\n",
      " [6.7 3.1 5.6 2.4]\n",
      " [7.2 3.6 6.1 2.5]\n",
      " [5.7 3.8 1.7 0.3]\n",
      " [5.8 2.7 5.1 1.9]\n",
      " [5.3 3.7 1.5 0.2]\n",
      " [5.9 3.  5.1 1.8]\n",
      " [5.7 2.5 5.  2. ]\n",
      " [5.5 2.4 3.7 1. ]\n",
      " [5.1 3.4 1.5 0.2]\n",
      " [5.9 3.2 4.8 1.8]\n",
      " [5.  3.2 1.2 0.2]\n",
      " [6.  3.4 4.5 1.6]\n",
      " [5.2 2.7 3.9 1.4]\n",
      " [5.8 4.  1.2 0.2]\n",
      " [6.1 2.8 4.  1.3]\n",
      " [6.4 2.8 5.6 2.2]\n",
      " [6.1 2.6 5.6 1.4]\n",
      " [7.2 3.  5.8 1.6]\n",
      " [5.  3.4 1.6 0.4]\n",
      " [7.3 2.9 6.3 1.8]\n",
      " [6.9 3.1 4.9 1.5]\n",
      " [5.5 3.5 1.3 0.2]\n",
      " [4.4 3.2 1.3 0.2]\n",
      " [5.  3.4 1.5 0.2]\n",
      " [4.6 3.4 1.4 0.3]\n",
      " [5.1 3.7 1.5 0.4]\n",
      " [7.6 3.  6.6 2.1]\n",
      " [7.9 3.8 6.4 2. ]]\n"
     ]
    }
   ],
   "source": [
    "print(X[:30])"
   ]
  },
  {
   "cell_type": "code",
   "execution_count": 19,
   "metadata": {},
   "outputs": [
    {
     "data": {
      "text/plain": [
       "array([[nan, 4.1, 1.5, 0.1],\n",
       "       [6.5, 3. , 5.2, 2. ],\n",
       "       [nan, 3.5, 1.6, 0.6],\n",
       "       [nan, 3. , 5. , 1.7],\n",
       "       [nan, 3.1, 4.4, 1.4],\n",
       "       [7.7, 2.8, 6.7, 2. ],\n",
       "       [nan, 3.2, 1.6, 0.2],\n",
       "       [nan, 3. , 5.9, 2.1],\n",
       "       [nan, 3.4, 5.6, 2.4],\n",
       "       [nan, 3.1, 1.5, 0.2],\n",
       "       [nan, 3.6, 1.4, 0.1],\n",
       "       [nan, 3.9, 1.7, 0.4],\n",
       "       [nan, 3. , 1.4, 0.2],\n",
       "       [nan, 2.5, 3. , 1.1],\n",
       "       [nan, 3. , 1.1, 0.1],\n",
       "       [nan, 3.2, 5.9, 2.3],\n",
       "       [nan, 2.7, 4.9, 1.8],\n",
       "       [nan, 3.2, 5.7, 2.3],\n",
       "       [nan, 2.4, 3.3, 1. ],\n",
       "       [nan, 3. , 4.5, 1.5],\n",
       "       [6.8, 3. , 5.5, 2.1],\n",
       "       [nan, 2.3, 4. , 1.3],\n",
       "       [nan, 2.9, 4.7, 1.4],\n",
       "       [nan, 2.8, 5.1, 1.5],\n",
       "       [nan, 2.8, 4.8, 1.4],\n",
       "       [nan, 3. , 4.2, 1.5],\n",
       "       [nan, 2.3, 3.3, 1. ],\n",
       "       [nan, 3. , 4.1, 1.3],\n",
       "       [nan, 2.9, 3.6, 1.3],\n",
       "       [nan, 3.1, 4.7, 1.5]])"
      ]
     },
     "execution_count": 19,
     "metadata": {},
     "output_type": "execute_result"
    }
   ],
   "source": [
    "# a column is mostly missing\n",
    "rng = np.random.RandomState(0)\n",
    "X_missing_column = X.copy()\n",
    "mask = X.sum(axis=1) < rng.normal(loc=19, scale=3, size=X.shape[0])\n",
    "X_missing_column[mask, 0] = np.NaN\n",
    "X_missing_column[120:]"
   ]
  },
  {
   "cell_type": "code",
   "execution_count": 20,
   "metadata": {},
   "outputs": [
    {
     "data": {
      "text/plain": [
       "array([[4.4, 2.9, 1.4, 0.2],\n",
       "       [nan, nan, 4.2, 1.3],\n",
       "       [6.7, 3.1, 5.6, 2.4],\n",
       "       [7.2, 3.6, 6.1, 2.5],\n",
       "       [5.7, 3.8, 1.7, 0.3],\n",
       "       [nan, nan, nan, nan],\n",
       "       [5.3, 3.7, 1.5, 0.2],\n",
       "       [5.9, 3. , 5.1, 1.8],\n",
       "       [5.7, 2.5, 5. , 2. ],\n",
       "       [5.5, 2.4, 3.7, 1. ],\n",
       "       [5.1, 3.4, 1.5, 0.2],\n",
       "       [5.9, 3.2, 4.8, 1.8],\n",
       "       [5. , 3.2, 1.2, 0.2],\n",
       "       [6. , 3.4, 4.5, 1.6],\n",
       "       [nan, nan, nan, nan],\n",
       "       [5.8, 4. , 1.2, 0.2],\n",
       "       [6.1, 2.8, 4. , 1.3],\n",
       "       [6.4, 2.8, 5.6, 2.2],\n",
       "       [6.1, 2.6, 5.6, 1.4],\n",
       "       [7.2, 3. , 5.8, 1.6],\n",
       "       [5. , 3.4, 1.6, 0.4],\n",
       "       [7.3, 2.9, 6.3, 1.8],\n",
       "       [6.9, 3.1, 4.9, 1.5],\n",
       "       [5.5, nan, nan, nan],\n",
       "       [4.4, 3.2, 1.3, 0.2],\n",
       "       [5. , 3.4, 1.5, 0.2],\n",
       "       [nan, nan, nan, 0.3],\n",
       "       [5.1, 3.7, 1.5, 0.4],\n",
       "       [7.6, 3. , 6.6, 2.1],\n",
       "       [7.9, 3.8, 6.4, 2. ]])"
      ]
     },
     "execution_count": 20,
     "metadata": {},
     "output_type": "execute_result"
    }
   ],
   "source": [
    "# only a few rows have missing data. but a lot of it\n",
    "rng = np.random.RandomState(4)\n",
    "X_missing_rows = X.copy()\n",
    "for i in rng.randint(0, 30, 5):\n",
    "    X_missing_rows[i, rng.uniform(size=4)> .2] = np.NaN\n",
    "X_missing_rows[:30]"
   ]
  },
  {
   "cell_type": "code",
   "execution_count": 21,
   "metadata": {},
   "outputs": [
    {
     "data": {
      "text/plain": [
       "array([6.588, 2.974, 5.552, 2.026])"
      ]
     },
     "execution_count": 21,
     "metadata": {},
     "output_type": "execute_result"
    }
   ],
   "source": [
    "X[y==2].mean(axis=0)"
   ]
  },
  {
   "cell_type": "code",
   "execution_count": 22,
   "metadata": {},
   "outputs": [
    {
     "data": {
      "text/plain": [
       "array([[4.4, 2.9, 1.4, 0.2],\n",
       "       [5.6, 2.7, 4.2, 1.3],\n",
       "       [6.7, 3.1, 5.6, nan],\n",
       "       [7.2, 3.6, 6.1, 2.5],\n",
       "       [5.7, 3.8, 1.7, 0.3],\n",
       "       [5.8, 2.7, nan, nan],\n",
       "       [5.3, 3.7, 1.5, 0.2],\n",
       "       [5.9, 3. , nan, nan],\n",
       "       [5.7, 2.5, nan, nan],\n",
       "       [5.5, 2.4, 3.7, 1. ],\n",
       "       [5.1, 3.4, 1.5, 0.2],\n",
       "       [5.9, 3.2, 4.8, 1.8],\n",
       "       [5. , 3.2, 1.2, 0.2],\n",
       "       [6. , 3.4, 4.5, 1.6],\n",
       "       [5.2, 2.7, 3.9, 1.4],\n",
       "       [5.8, 4. , 1.2, 0.2],\n",
       "       [6.1, 2.8, 4. , 1.3],\n",
       "       [6.4, 2.8, 5.6, nan],\n",
       "       [6.1, 2.6, 5.6, nan],\n",
       "       [7.2, 3. , nan, 1.6],\n",
       "       [5. , 3.4, 1.6, 0.4],\n",
       "       [7.3, 2.9, nan, nan],\n",
       "       [6.9, 3.1, 4.9, 1.5],\n",
       "       [5.5, 3.5, 1.3, 0.2],\n",
       "       [4.4, 3.2, 1.3, 0.2],\n",
       "       [5. , 3.4, 1.5, 0.2],\n",
       "       [4.6, 3.4, 1.4, 0.3],\n",
       "       [5.1, 3.7, 1.5, 0.4],\n",
       "       [7.6, 3. , 6.6, nan],\n",
       "       [7.9, 3.8, 6.4, nan]])"
      ]
     },
     "execution_count": 22,
     "metadata": {},
     "output_type": "execute_result"
    }
   ],
   "source": [
    "# some values missing only\n",
    "rng = np.random.RandomState(0)\n",
    "X_some_missing = X.copy()\n",
    "mask = np.abs(X[:, 2] - rng.normal(loc=5.5, scale=.7, size=X.shape[0])) < .6\n",
    "X_some_missing[mask, 3] = np.NaN\n",
    "# different random numbers\n",
    "mask2 = np.abs(X[:, 2] - rng.normal(loc=5.5, scale=.7, size=X.shape[0])) < .6\n",
    "X_some_missing[mask2, 2] = np.NaN\n",
    "X_some_missing[:30]"
   ]
  },
  {
   "cell_type": "code",
   "execution_count": 23,
   "metadata": {},
   "outputs": [
    {
     "data": {
      "text/plain": [
       "0.2"
      ]
     },
     "execution_count": 23,
     "metadata": {},
     "output_type": "execute_result"
    }
   ],
   "source": [
    "np.mean(mask)"
   ]
  },
  {
   "cell_type": "code",
   "execution_count": 24,
   "metadata": {},
   "outputs": [
    {
     "data": {
      "text/plain": [
       "array([50, 43, 25])"
      ]
     },
     "execution_count": 24,
     "metadata": {},
     "output_type": "execute_result"
    }
   ],
   "source": [
    "np.bincount(y[~mask2])"
   ]
  },
  {
   "cell_type": "code",
   "execution_count": 25,
   "metadata": {
    "collapsed": true
   },
   "outputs": [],
   "source": [
    "# from now on use X_ = X_some_missing\n",
    "X_ = X_some_missing"
   ]
  },
  {
   "cell_type": "code",
   "execution_count": 26,
   "metadata": {
    "collapsed": true
   },
   "outputs": [],
   "source": [
    "from sklearn.linear_model import LogisticRegression\n",
    "from sklearn.model_selection import train_test_split, cross_val_score\n",
    "X_train, X_test, y_train, y_test = train_test_split(X_, y, stratify=y, random_state=0)"
   ]
  },
  {
   "cell_type": "code",
   "execution_count": 27,
   "metadata": {},
   "outputs": [
    {
     "data": {
      "text/plain": [
       "0.7877777777777777"
      ]
     },
     "execution_count": 27,
     "metadata": {},
     "output_type": "execute_result"
    }
   ],
   "source": [
    "from sklearn.pipeline import make_pipeline\n",
    "from sklearn.preprocessing import StandardScaler\n",
    "\n",
    "nan_columns = np.any(np.isnan(X_train), axis=0)\n",
    "X_drop_columns = X_train[:, ~nan_columns]\n",
    "logreg = make_pipeline(StandardScaler(), LogisticRegression())\n",
    "scores = cross_val_score(logreg, X_drop_columns, y_train, cv=10)\n",
    "np.mean(scores)"
   ]
  },
  {
   "cell_type": "code",
   "execution_count": 28,
   "metadata": {},
   "outputs": [
    {
     "name": "stdout",
     "output_type": "stream",
     "text": [
      "[[6.9 3.1 4.9 1.5]\n",
      " [7.1 3.  nan 2.1]\n",
      " [4.5 2.3 1.3 0.3]\n",
      " [4.3 3.  1.1 0.1]\n",
      " [4.6 3.1 1.5 0.2]\n",
      " [5.8 4.  1.2 0.2]\n",
      " [5.5 3.5 1.3 0.2]\n",
      " [6.8 2.8 4.8 1.4]\n",
      " [5.8 2.7 nan 1.9]\n",
      " [6.8 3.  nan 2.1]\n",
      " [6.2 3.4 nan nan]\n",
      " [5.1 3.5 1.4 0.3]\n",
      " [6.  2.2 5.  nan]\n",
      " [5.3 3.7 1.5 0.2]\n",
      " [5.7 2.5 nan nan]\n",
      " [5.2 4.1 1.5 0.1]\n",
      " [5.4 3.  4.5 nan]\n",
      " [5.5 2.5 4.  1.3]\n",
      " [5.8 2.7 4.1 1. ]\n",
      " [6.  2.9 4.5 1.5]\n",
      " [5.  3.3 1.4 0.2]\n",
      " [6.8 3.2 nan nan]\n",
      " [7.4 2.8 6.1 1.9]\n",
      " [5.4 3.9 1.7 0.4]\n",
      " [5.7 2.8 4.5 1.3]\n",
      " [5.7 2.8 4.1 1.3]\n",
      " [5.1 3.3 1.7 0.5]\n",
      " [6.5 3.2 5.1 nan]\n",
      " [6.5 3.  5.2 nan]\n",
      " [6.4 2.8 5.6 nan]]\n"
     ]
    }
   ],
   "source": [
    "print(X_train[-30:])"
   ]
  },
  {
   "cell_type": "code",
   "execution_count": 29,
   "metadata": {
    "collapsed": true
   },
   "outputs": [],
   "source": [
    "np.set_printoptions(precision=3)"
   ]
  },
  {
   "cell_type": "code",
   "execution_count": 30,
   "metadata": {},
   "outputs": [
    {
     "data": {
      "text/plain": [
       "array([[6.9 , 3.1 , 4.9 , 1.5 ],\n",
       "       [7.1 , 3.  , 3.95, 2.1 ],\n",
       "       [4.5 , 2.3 , 1.3 , 0.3 ],\n",
       "       [4.3 , 3.  , 1.1 , 0.1 ],\n",
       "       [4.6 , 3.1 , 1.5 , 0.2 ],\n",
       "       [5.8 , 4.  , 1.2 , 0.2 ],\n",
       "       [5.5 , 3.5 , 1.3 , 0.2 ],\n",
       "       [6.8 , 2.8 , 4.8 , 1.4 ],\n",
       "       [5.8 , 2.7 , 3.95, 1.9 ],\n",
       "       [6.8 , 3.  , 3.95, 2.1 ],\n",
       "       [6.2 , 3.4 , 3.95, 1.2 ],\n",
       "       [5.1 , 3.5 , 1.4 , 0.3 ],\n",
       "       [6.  , 2.2 , 5.  , 1.2 ],\n",
       "       [5.3 , 3.7 , 1.5 , 0.2 ],\n",
       "       [5.7 , 2.5 , 3.95, 1.2 ],\n",
       "       [5.2 , 4.1 , 1.5 , 0.1 ],\n",
       "       [5.4 , 3.  , 4.5 , 1.2 ],\n",
       "       [5.5 , 2.5 , 4.  , 1.3 ],\n",
       "       [5.8 , 2.7 , 4.1 , 1.  ],\n",
       "       [6.  , 2.9 , 4.5 , 1.5 ],\n",
       "       [5.  , 3.3 , 1.4 , 0.2 ],\n",
       "       [6.8 , 3.2 , 3.95, 1.2 ],\n",
       "       [7.4 , 2.8 , 6.1 , 1.9 ],\n",
       "       [5.4 , 3.9 , 1.7 , 0.4 ],\n",
       "       [5.7 , 2.8 , 4.5 , 1.3 ],\n",
       "       [5.7 , 2.8 , 4.1 , 1.3 ],\n",
       "       [5.1 , 3.3 , 1.7 , 0.5 ],\n",
       "       [6.5 , 3.2 , 5.1 , 1.2 ],\n",
       "       [6.5 , 3.  , 5.2 , 1.2 ],\n",
       "       [6.4 , 2.8 , 5.6 , 1.2 ]])"
      ]
     },
     "execution_count": 30,
     "metadata": {},
     "output_type": "execute_result"
    }
   ],
   "source": [
    "from sklearn.impute import SimpleImputer\n",
    "imp = SimpleImputer(strategy=\"median\").fit(X_train)\n",
    "X_median_imp = imp.transform(X_train)\n",
    "X_median_imp[-30:]"
   ]
  },
  {
   "cell_type": "code",
   "execution_count": 31,
   "metadata": {},
   "outputs": [
    {
     "data": {
      "text/plain": [
       "(112, 4)"
      ]
     },
     "execution_count": 31,
     "metadata": {},
     "output_type": "execute_result"
    }
   ],
   "source": [
    "X_median_imp.shape"
   ]
  },
  {
   "cell_type": "code",
   "execution_count": 55,
   "metadata": {},
   "outputs": [
    {
     "data": {
      "image/png": "[encoded data removed]",
      "text/plain": [
       "<Figure size 432x288 with 1 Axes>"
      ]
     },
     "metadata": {},
     "output_type": "display_data"
    }
   ],
   "source": [
    "import matplotlib.patches as patches\n",
    "imputed_mask = np.any(np.isnan(X_train), axis=1)\n",
    "\n",
    "def plot_imputation(X_imp, title=None, ax=None):\n",
    "    # helper function to plot imputed data points\n",
    "    if ax is None:\n",
    "        ax = plt.gca()\n",
    "    if title is not None:\n",
    "        ax.set_title(title)\n",
    "    ax.scatter(X_imp[imputed_mask, 2], X_imp[imputed_mask, 3], c=plt.cm.tab10(y_train[imputed_mask]), alpha=.6, marker=\"s\")\n",
    "    ax.scatter(X_imp[~imputed_mask, 2], X_imp[~imputed_mask, 3], c=plt.cm.tab10(y_train[~imputed_mask]), alpha=.6)\n",
    "    # this is for creating the legend...\n",
    "    square = plt.Line2D((0,), (0,), linestyle='', marker=\"s\", markerfacecolor=\"w\", markeredgecolor=\"k\", label='Imputed data')\n",
    "    circle = plt.Line2D((0,), (0,), linestyle='', marker=\"o\", markerfacecolor=\"w\", markeredgecolor=\"k\", label='Real data')\n",
    "    plt.legend(handles=[square, circle], numpoints=1, loc=\"best\")\n",
    "\n",
    "plot_imputation(X_median_imp, \"Median imputation\")\n",
    "plt.savefig(\"images/median_imputation.png\")"
   ]
  },
  {
   "cell_type": "code",
   "execution_count": 35,
   "metadata": {
    "collapsed": true
   },
   "outputs": [],
   "source": [
    "# I designed the problem so that mean imputation wouldn't work"
   ]
  },
  {
   "cell_type": "code",
   "execution_count": 38,
   "metadata": {},
   "outputs": [
    {
     "data": {
      "text/plain": [
       "0.8072222222222223"
      ]
     },
     "execution_count": 38,
     "metadata": {},
     "output_type": "execute_result"
    }
   ],
   "source": [
    "median_pipe = make_pipeline(SimpleImputer(strategy='median'), StandardScaler(), LogisticRegression())\n",
    "scores = cross_val_score(median_pipe, X_train, y_train, cv=10)\n",
    "np.mean(scores)"
   ]
  },
  {
   "cell_type": "markdown",
   "metadata": {},
   "source": [
    "# Model-driven imputation and KNN"
   ]
  },
  {
   "cell_type": "code",
   "execution_count": 39,
   "metadata": {},
   "outputs": [],
   "source": [
    "from sklearn.impute import KNNImputer"
   ]
  },
  {
   "cell_type": "code",
   "execution_count": 41,
   "metadata": {},
   "outputs": [
    {
     "name": "stderr",
     "output_type": "stream",
     "text": [
      "/home/andy/checkout/scikit-learn/sklearn/metrics/pairwise.py:420: RuntimeWarning: invalid value encountered in sqrt\n",
      "  return distances if squared else np.sqrt(distances, out=distances)\n"
     ]
    }
   ],
   "source": [
    "knnimp = KNNImputer().fit(X_train)\n",
    "X_train_knn = knnimp.transform(X_train)"
   ]
  },
  {
   "cell_type": "code",
   "execution_count": 56,
   "metadata": {},
   "outputs": [
    {
     "data": {
      "image/png": "[encoded data removed]",
      "text/plain": [
       "<Figure size 432x288 with 1 Axes>"
      ]
     },
     "metadata": {},
     "output_type": "display_data"
    }
   ],
   "source": [
    "plot_imputation(X_train_knn, \"KNN imputation\")\n",
    "plt.savefig(\"images/knn_imputation.png\")"
   ]
  },
  {
   "cell_type": "code",
   "execution_count": 58,
   "metadata": {},
   "outputs": [
    {
     "name": "stderr",
     "output_type": "stream",
     "text": [
      "/home/andy/checkout/scikit-learn/sklearn/metrics/pairwise.py:420: RuntimeWarning: invalid value encountered in sqrt\n",
      "  return distances if squared else np.sqrt(distances, out=distances)\n",
      "/home/andy/checkout/scikit-learn/sklearn/metrics/pairwise.py:420: RuntimeWarning: invalid value encountered in sqrt\n",
      "  return distances if squared else np.sqrt(distances, out=distances)\n",
      "/home/andy/checkout/scikit-learn/sklearn/metrics/pairwise.py:420: RuntimeWarning: invalid value encountered in sqrt\n",
      "  return distances if squared else np.sqrt(distances, out=distances)\n",
      "/home/andy/checkout/scikit-learn/sklearn/metrics/pairwise.py:420: RuntimeWarning: invalid value encountered in sqrt\n",
      "  return distances if squared else np.sqrt(distances, out=distances)\n",
      "/home/andy/checkout/scikit-learn/sklearn/metrics/pairwise.py:420: RuntimeWarning: invalid value encountered in sqrt\n",
      "  return distances if squared else np.sqrt(distances, out=distances)\n",
      "/home/andy/checkout/scikit-learn/sklearn/metrics/pairwise.py:420: RuntimeWarning: invalid value encountered in sqrt\n",
      "  return distances if squared else np.sqrt(distances, out=distances)\n",
      "/home/andy/checkout/scikit-learn/sklearn/metrics/pairwise.py:420: RuntimeWarning: invalid value encountered in sqrt\n",
      "  return distances if squared else np.sqrt(distances, out=distances)\n",
      "/home/andy/checkout/scikit-learn/sklearn/metrics/pairwise.py:420: RuntimeWarning: invalid value encountered in sqrt\n",
      "  return distances if squared else np.sqrt(distances, out=distances)\n",
      "/home/andy/checkout/scikit-learn/sklearn/metrics/pairwise.py:420: RuntimeWarning: invalid value encountered in sqrt\n",
      "  return distances if squared else np.sqrt(distances, out=distances)\n",
      "/home/andy/checkout/scikit-learn/sklearn/metrics/pairwise.py:420: RuntimeWarning: invalid value encountered in sqrt\n",
      "  return distances if squared else np.sqrt(distances, out=distances)\n"
     ]
    },
    {
     "data": {
      "text/plain": [
       "0.8294444444444444"
      ]
     },
     "execution_count": 58,
     "metadata": {},
     "output_type": "execute_result"
    }
   ],
   "source": [
    "knn_pipe = make_pipeline(KNNImputer(), StandardScaler(), LogisticRegression())\n",
    "\n",
    "scores = cross_val_score(knn_pipe, X_train, y_train, cv=10)\n",
    "np.mean(scores)"
   ]
  },
  {
   "cell_type": "code",
   "execution_count": 44,
   "metadata": {},
   "outputs": [],
   "source": [
    "asdf = np.arange(5)"
   ]
  },
  {
   "cell_type": "code",
   "execution_count": 48,
   "metadata": {},
   "outputs": [],
   "source": [
    "from sklearn.ensemble import RandomForestRegressor\n",
    "from sklearn.impute import IterativeImputer\n",
    "\n",
    "rfimp = IterativeImputer(predictor=RandomForestRegressor(n_estimators=100))\n",
    "rfimp.fit(X_train)\n",
    "X_rf_imp = rfimp.transform(X_train)\n"
   ]
  },
  {
   "cell_type": "code",
   "execution_count": 57,
   "metadata": {},
   "outputs": [
    {
     "data": {
      "image/png": "[encoded data removed]",
      "text/plain": [
       "<Figure size 864x288 with 3 Axes>"
      ]
     },
     "metadata": {},
     "output_type": "display_data"
    }
   ],
   "source": [
    "fig, axes = plt.subplots(1, 3, figsize=(12, 4))\n",
    "plot_imputation(X_median_imp, \"Median\", ax=axes[0])\n",
    "plot_imputation(X_train_knn, \"KNN\", ax=axes[1])\n",
    "plot_imputation(X_rf_imp, \"Random Forest imputation\", ax=axes[2])\n",
    "plt.savefig(\"images/med_knn_rf_comparison.png\")"
   ]
  },
  {
   "cell_type": "code",
   "execution_count": 61,
   "metadata": {},
   "outputs": [
    {
     "data": {
      "text/plain": [
       "0.845"
      ]
     },
     "execution_count": 61,
     "metadata": {},
     "output_type": "execute_result"
    }
   ],
   "source": [
    "rf_imp = IterativeImputer(predictor=RandomForestRegressor(n_estimators=100))\n",
    "rf_pipe = make_pipeline(rf_imp, StandardScaler(), LogisticRegression())\n",
    "\n",
    "scores = cross_val_score(rf_pipe, X_rf_imp, y_train, cv=10)\n",
    "np.mean(scores)"
   ]
  },
  {
   "cell_type": "code",
   "execution_count": null,
   "metadata": {},
   "outputs": [],
   "source": []
  }
 ],
 "metadata": {
  "anaconda-cloud": {},
  "kernelspec": {
   "display_name": "Python 3",
   "language": "python",
   "name": "python3"
  },
  "language_info": {
   "codemirror_mode": {
    "name": "ipython",
    "version": 3
   },
   "file_extension": ".py",
   "mimetype": "text/x-python",
   "name": "python",
   "nbconvert_exporter": "python",
   "pygments_lexer": "ipython3",
   "version": "3.6.8"
  }
 },
 "nbformat": 4,
 "nbformat_minor": 2
}
