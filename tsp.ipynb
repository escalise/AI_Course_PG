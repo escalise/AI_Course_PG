{
 "cells": [
  {
   "cell_type": "markdown",
   "metadata": {},
   "source": [
    "# Implementación del TSP en Deap\n",
    "por _Eugenio Scalise_, basado en el ejemplo [tsp.py](https://github.com/DEAP/deap/blob/master/examples/ga/tsp.py), disponible en el [repositorio de la biblioteca DEAP](https://github.com/DEAP/deap)\n",
    "\n",
    "Adaptado para el curso de Inteligencia Artificial, Postgrado en Ciencias de la Computación, Facultad de Ciencias, Universidad Central de Venezuela.\n",
    "\n",
    "Julio 2019."
   ]
  },
  {
   "cell_type": "markdown",
   "metadata": {},
   "source": [
    "### Celda para instalar paquetes \n",
    "\n",
    "Los paquetes no disponibles en el ambiente donde se ejecuta el Jupyter (colab, por ejemplo), pueden ser instalados mediante la sentencia:\n",
    "\n",
    "`pip install <nombre_del_paquete>`\n",
    "\n",
    "Basta ejecutar la primera vez y luego comentar la celda."
   ]
  },
  {
   "cell_type": "code",
   "execution_count": null,
   "metadata": {},
   "outputs": [],
   "source": [
    "#pip install deap"
   ]
  },
  {
   "cell_type": "markdown",
   "metadata": {},
   "source": [
    "### Imports \n",
    "\n",
    "Si ocurre un error al ejecutar alguna de las celdas, installe el paquete con la celda anterior y ejecute de nuevo."
   ]
  },
  {
   "cell_type": "code",
   "execution_count": null,
   "metadata": {},
   "outputs": [],
   "source": [
    "import array\n",
    "import random\n",
    "import json\n",
    "\n",
    "import numpy\n",
    "\n",
    "from deap import algorithms\n",
    "from deap import base\n",
    "from deap import creator\n",
    "from deap import tools"
   ]
  },
  {
   "cell_type": "code",
   "execution_count": null,
   "metadata": {},
   "outputs": [],
   "source": []
  },
  {
   "cell_type": "code",
   "execution_count": null,
   "metadata": {},
   "outputs": [],
   "source": []
  }
 ],
 "metadata": {
  "kernelspec": {
   "display_name": "Python 3",
   "language": "python",
   "name": "python3"
  },
  "language_info": {
   "codemirror_mode": {
    "name": "ipython",
    "version": 3
   },
   "file_extension": ".py",
   "mimetype": "text/x-python",
   "name": "python",
   "nbconvert_exporter": "python",
   "pygments_lexer": "ipython3",
   "version": "3.6.8"
  }
 },
 "nbformat": 4,
 "nbformat_minor": 2
}
